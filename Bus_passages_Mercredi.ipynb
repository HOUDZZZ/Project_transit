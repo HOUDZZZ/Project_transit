{
  "nbformat": 4,
  "nbformat_minor": 0,
  "metadata": {
    "colab": {
      "name": "Bus_passages_Mercredi",
      "private_outputs": true,
      "provenance": [],
      "collapsed_sections": []
    },
    "kernelspec": {
      "name": "python3",
      "display_name": "Python 3"
    },
    "language_info": {
      "name": "python"
    }
  },
  "cells": [
    {
      "cell_type": "code",
      "execution_count": null,
      "metadata": {
        "id": "t-yCgsYPMDXr"
      },
      "outputs": [],
      "source": [
        "from google.colab import files\n",
        " \n",
        "#uploading d'un fichier CSV que Jamila a crée en concaténant plusieurs fichier csv nettoyé (suppression de duplicats et colonnes inutiles)\n",
        "uploaded = files.upload()"
      ]
    },
    {
      "cell_type": "code",
      "source": [
        "\n",
        "import pandas as pd\n",
        "import requests, json\n",
        "from pandas.io.json import json_normalize\n",
        "\n",
        "df= pd.read_csv(\"bus_mercredi15juin sans 7-8 du 15_06.csv\")\n",
        "\n"
      ],
      "metadata": {
        "id": "3xUf_v5kPhej"
      },
      "execution_count": null,
      "outputs": []
    },
    {
      "cell_type": "code",
      "source": [
        "# le fichier est un peu compliqué contient l'heure de passage de chaque bus pour chacun de ses arrêts, toute la journée\n",
        "df"
      ],
      "metadata": {
        "id": "4VbVrzhpxDJH"
      },
      "execution_count": null,
      "outputs": []
    },
    {
      "cell_type": "code",
      "source": [
        "#affichage du nombre de bus qui circulent mercredi à Rennes\n",
        "df[\"nomcourtligne\"].nunique()"
      ],
      "metadata": {
        "id": "03JOjpBjO0XM"
      },
      "execution_count": null,
      "outputs": []
    },
    {
      "cell_type": "code",
      "source": [
        "#affichage des noms uniques de toutes les lignes de bus contenu dans ce fichier\n",
        "df[\"nomcourtligne\"].unique()"
      ],
      "metadata": {
        "id": "gOarLeKa_ruU"
      },
      "execution_count": null,
      "outputs": []
    },
    {
      "cell_type": "code",
      "source": [
        "# masque booléen pour ne selectionner que les lignes concernant le bus C1 le bus le plus fréquenté à Rennes \n",
        "ligneC1= df[(df[\"nomcourtligne\"]== 'C1')]\n",
        "\n",
        "# affichage des arrêts du bus C1\n",
        "ligneC1[\"nomarret\"].unique()\n"
      ],
      "metadata": {
        "id": "SEJM7YiML6BB"
      },
      "execution_count": null,
      "outputs": []
    },
    {
      "cell_type": "code",
      "source": [
        "ligneC1.head()"
      ],
      "metadata": {
        "id": "5GyfeesvF-6h"
      },
      "execution_count": null,
      "outputs": []
    },
    {
      "cell_type": "code",
      "source": [
        "ligneC1_arret=ligneC1.groupby([\"destination\", \"idarret\", \"hours\"]).count()[['heure_arrivee']]\n",
        "\n",
        "ligneC1_arret"
      ],
      "metadata": {
        "id": "9U6qfu32F5VU"
      },
      "execution_count": null,
      "outputs": []
    },
    {
      "cell_type": "code",
      "source": [
        "#création d'une fonction qui va me permettre de créer une colonne plage horaire et voir combien de fois le bus passe par plage horaire\n",
        "def plagehoraire(x):\n",
        "  if 7<= x <=9:\n",
        "    return '(1)7-9'\n",
        "  if 9<= x <= 11:\n",
        "    return '(2)9-11'\n",
        "  if 11<= x <= 13:\n",
        "    return '(3)11-13'\n",
        "  if 13<= x <= 15:\n",
        "    return '(4)13-15'\n",
        "  if 15<= x <= 17:\n",
        "    return '(5)15-17'\n",
        "  if 17<= x <= 19:\n",
        "    return '(6)17-19'\n",
        "  if 19<= x <= 21:\n",
        "    return '(7)19-21'\n",
        "  if 21<= x <= 23:\n",
        "    return '(8)21-23'\n",
        "  if 23<= x or x == 0:\n",
        "    return '(9)23-01'"
      ],
      "metadata": {
        "id": "DiaLQzzYbPhw"
      },
      "execution_count": null,
      "outputs": []
    },
    {
      "cell_type": "code",
      "source": [
        "\n",
        "#création de la colonne plage horaire\n",
        "df[\"tranche_horaire\"]= df[\"hours\"].apply(plagehoraire)\n",
        "\n",
        "# ici je compte le nombre de passage par plage horaire et pour le sens 1 qui est le sens allé \n",
        "PassageC1= df[(df[\"nomcourtligne\"]== \"C1\") & (df[\"nomarret\"]== 'Cesson Hôpital Privé')& (df[\"sens\"]== 1)].groupby([\"tranche_horaire\",\"sens\"]).count()"
      ],
      "metadata": {
        "id": "6Iot8mNIbtN-"
      },
      "execution_count": null,
      "outputs": []
    },
    {
      "cell_type": "code",
      "source": [
        "PassageC1= PassageC1.reset_index()\n",
        "\n",
        "PassageC1"
      ],
      "metadata": {
        "id": "wEgfzS4UbvFx"
      },
      "execution_count": null,
      "outputs": []
    },
    {
      "cell_type": "code",
      "source": [
        "#la moyenne de passage mercredi\n",
        "PassageC1['nomcourtligne'].mean()"
      ],
      "metadata": {
        "id": "zcmHJ7h3csYb"
      },
      "execution_count": null,
      "outputs": []
    },
    {
      "cell_type": "code",
      "source": [
        "# création de la figure de passage du bus par plage horaire \n",
        "import plotly.express as px\n",
        "fig1 = px.bar(PassageC1, x='tranche_horaire', y='nomcourtligne', color ='nomcourtligne', title=\"Passage du bus C1 par tranche horaire\", labels={'nomcourtligne': \"Nombre de passages\", \"tranche_horaire\": \"Tranche horaire\"}, color_continuous_scale = \"dense\")\n",
        "fig1.update_layout(barmode='group')\n",
        "fig1.add_hline(y=8.71, line_dash='dash')\n",
        "fig1.update_layout(title = {'x':0.5},font = {\"family\" : \"arial\"})\n",
        "fig1.update(layout_yaxis_range = [0,22])\n",
        "fig1.update_layout(font=dict(size=15,color=\"black\"))\n",
        "fig1.show()"
      ],
      "metadata": {
        "id": "oI4abHMccVm5"
      },
      "execution_count": null,
      "outputs": []
    },
    {
      "cell_type": "code",
      "source": [
        "# création du fichier html de la figure de passage du bus C1 \n",
        "fig1.write_html(\"bus_mercredi.html\")"
      ],
      "metadata": {
        "id": "9Jlyyb6kcp65"
      },
      "execution_count": null,
      "outputs": []
    }
  ]
}