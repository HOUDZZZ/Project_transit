{
  "nbformat": 4,
  "nbformat_minor": 0,
  "metadata": {
    "colab": {
      "name": "Bus_fréquentation.ipynb",
      "private_outputs": true,
      "provenance": []
    },
    "kernelspec": {
      "name": "python3",
      "display_name": "Python 3"
    },
    "language_info": {
      "name": "python"
    }
  },
  "cells": [
    {
      "cell_type": "code",
      "execution_count": null,
      "metadata": {
        "id": "PGxPgPM6IGp0"
      },
      "outputs": [],
      "source": [
        "import requests\n",
        "import pandas as pd\n",
        "link = (\"https://data.rennesmetropole.fr/api/records/1.0/search/?dataset=mkt-frequentation-niveau-freq-max-ligne&q=&rows=200&facet=materiel&facet=jour_semaine&facet=ligne&facet=tranche_horaire&facet=frequentation&facet=niveau_frequentation\")\n",
        "\n",
        "data = requests.get(link).json()\n",
        "\n",
        "\n",
        "data"
      ]
    },
    {
      "cell_type": "code",
      "source": [
        "fréquentation_bus = pd.json_normalize(data =data, record_path= [\"records\"])\n",
        "\n"
      ],
      "metadata": {
        "id": "jDPGR4uhTYlz"
      },
      "execution_count": null,
      "outputs": []
    },
    {
      "cell_type": "code",
      "source": [
        "fréquentation_bus"
      ],
      "metadata": {
        "id": "2qiyjbiFS389"
      },
      "execution_count": null,
      "outputs": []
    },
    {
      "cell_type": "code",
      "source": [
        "# ici je fais un masque boolen pour ne sélectionner que les bus avec un niveau de fréquentation moyen \"2\" ou elevée \"3\"\n",
        "plusFreq=fréquentation_bus[(fréquentation_bus[\"fields.niveau_frequentation\"]== 3) |(fréquentation_bus[\"fields.niveau_frequentation\"]== 2)]\n",
        "\n",
        "plusplus=plusFreq.groupby(\"fields.ligne\").count()[[\"fields.tranche_horaire\"]].sort_values(by= \"fields.tranche_horaire\", ascending=False)\n",
        "plusplus"
      ],
      "metadata": {
        "id": "Ak1vEZ4aRvIE"
      },
      "execution_count": null,
      "outputs": []
    },
    {
      "cell_type": "code",
      "source": [
        "# masque booléen pour ne selectionner que les données concernant le bus C1\n",
        "LigneC1=fréquentation_bus[fréquentation_bus[\"fields.ligne\"]== \"C1\"]\n",
        "\n"
      ],
      "metadata": {
        "id": "J550XnbuUpCF"
      },
      "execution_count": null,
      "outputs": []
    },
    {
      "cell_type": "code",
      "source": [
        "data= LigneC1.groupby([\"fields.jour_semaine\",\"fields.tranche_horaire\",\"fields.niveau_frequentation\"]).count()[[\"datasetid\"]]\n",
        "\n",
        "data =data.reset_index()\n",
        "data"
      ],
      "metadata": {
        "id": "lmLwIovvhCLe"
      },
      "execution_count": null,
      "outputs": []
    },
    {
      "cell_type": "code",
      "source": [
        "import plotly.express as px\n",
        "fig1 = px.bar(data, x='fields.tranche_horaire', y='fields.niveau_frequentation',\n",
        "              color= 'fields.niveau_frequentation',title=\"Fréquentation du bus C1 par tranche horaire en SEMAINE\", \n",
        "              labels={'fields.tranche_horaire': \"Tranche horaire\", 'fields.niveau_frequentation': \"Niveau de fréquentation\"},\n",
        "              color_continuous_scale = \"pinkyl\")\n",
        "fig1.update_layout(barmode='group')\n",
        "fig1.update_layout(title = {'x':0.5},font = {\"family\" : \"arial\"})\n",
        "fig1.update(layout_yaxis_range = [0,3.5])\n",
        "fig1.update_layout(font=dict(size=15,color=\"black\"))\n",
        "fig1.show()"
      ],
      "metadata": {
        "id": "Yx502QOghj8I"
      },
      "execution_count": null,
      "outputs": []
    },
    {
      "cell_type": "code",
      "source": [
        "fig1.write_html(\"Fréquentation.html\")"
      ],
      "metadata": {
        "id": "wFUuNM4libei"
      },
      "execution_count": null,
      "outputs": []
    }
  ]
}